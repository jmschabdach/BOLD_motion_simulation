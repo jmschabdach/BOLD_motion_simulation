{
 "cells": [
  {
   "cell_type": "markdown",
   "metadata": {
    "toc": true
   },
   "source": [
    "<h1>Table of Contents<span class=\"tocSkip\"></span></h1>\n",
    "<div class=\"toc\" style=\"margin-top: 1em;\"><ul class=\"toc-item\"><li><span><a href=\"#Imports\" data-toc-modified-id=\"Imports-1\"><span class=\"toc-item-num\">1&nbsp;&nbsp;</span>Imports</a></span></li><li><span><a href=\"#Handling-rs-fMRIs\" data-toc-modified-id=\"Handling-rs-fMRIs-2\"><span class=\"toc-item-num\">2&nbsp;&nbsp;</span>Handling rs-fMRIs</a></span><ul class=\"toc-item\"><li><span><a href=\"#Specify-the-filename\" data-toc-modified-id=\"Specify-the-filename-2.1\"><span class=\"toc-item-num\">2.1&nbsp;&nbsp;</span>Specify the filename</a></span></li><li><span><a href=\"#Load-the-file\" data-toc-modified-id=\"Load-the-file-2.2\"><span class=\"toc-item-num\">2.2&nbsp;&nbsp;</span>Load the file</a></span></li></ul></li></ul></div>"
   ]
  },
  {
   "cell_type": "markdown",
   "metadata": {},
   "source": [
    "# Imports"
   ]
  },
  {
   "cell_type": "code",
   "execution_count": 2,
   "metadata": {
    "collapsed": false
   },
   "outputs": [],
   "source": [
    "from __future__ import print_function  # ensures print function compatibility with Python3\n",
    "import numpy as np\n",
    "\n",
    "# safely deal with file paths\n",
    "import os\n",
    "\n",
    "# library for loading the image\n",
    "from nipy.core.api import Image          # for Image object\n",
    "from nipy import load_image, save_image  # for loading and saving .nii.gz images\n",
    "from nipype.interfaces import dcmstack   # for saving the file"
   ]
  },
  {
   "cell_type": "markdown",
   "metadata": {
    "collapsed": true
   },
   "source": [
    "# Handling rs-fMRIs"
   ]
  },
  {
   "cell_type": "markdown",
   "metadata": {},
   "source": [
    "## Specify the filename"
   ]
  },
  {
   "cell_type": "code",
   "execution_count": 5,
   "metadata": {
    "collapsed": false
   },
   "outputs": [
    {
     "name": "stdout",
     "output_type": "stream",
     "text": [
      "/home/jenna/Documents/Pitt/CHP-PIRC/BOLD_motion_simulation/BOLD.nii\n"
     ]
    }
   ],
   "source": [
    "# Specify the path to the file\n",
    "path = \"BOLD.nii\"\n",
    "path = os.path.abspath(path)\n",
    "print(path)  # Python3 syntax for printing\n",
    "\n",
    "# Make sure that the file exists and is actually a file\n",
    "if not os.path.exists(path) or not os.path.isfile(path):\n",
    "    print(\"The filename entered is invalid\")"
   ]
  },
  {
   "cell_type": "markdown",
   "metadata": {},
   "source": [
    "## Load the file"
   ]
  },
  {
   "cell_type": "code",
   "execution_count": 12,
   "metadata": {
    "collapsed": false,
    "scrolled": true
   },
   "outputs": [],
   "source": [
    "sequence = load_image(path)\n",
    "\n",
    "# What is the type() of the image?\n",
    "# your code here\n",
    "\n",
    "# Get the coordinates of the image - will be used later to make sure all volumes \n",
    "# in the sequence are in the same space\n",
    "coords = sequence.coordmap"
   ]
  },
  {
   "cell_type": "code",
   "execution_count": 17,
   "metadata": {
    "collapsed": false
   },
   "outputs": [],
   "source": [
    "# Can grab the data directly from the sequence\n",
    "sequenceData = sequence.get_data()\n",
    "\n",
    "# What does the sequenceData object look like? \n",
    "# your code here\n",
    "\n",
    "# What type() of object is the data?\n",
    "# your code here\n",
    "\n",
    "# What is the shape of the data? (Hint: the object should have an attribute called .shape)\n",
    "# your code here\n",
    "\n",
    "# Based on the output of the previous line, how many dimensions \n",
    "# are used to store the information in the image sequence?"
   ]
  },
  {
   "cell_type": "code",
   "execution_count": 16,
   "metadata": {
    "collapsed": false
   },
   "outputs": [
    {
     "data": {
      "text/plain": [
       "memmap([[0, 0, 0, ..., 0, 0, 0],\n",
       "       [0, 0, 0, ..., 0, 0, 0],\n",
       "       [0, 0, 0, ..., 0, 0, 0],\n",
       "       ..., \n",
       "       [0, 0, 0, ..., 0, 0, 0],\n",
       "       [0, 0, 0, ..., 0, 0, 0],\n",
       "       [0, 0, 0, ..., 0, 0, 0]], dtype=int16)"
      ]
     },
     "execution_count": 16,
     "metadata": {},
     "output_type": "execute_result"
    }
   ],
   "source": []
  },
  {
   "cell_type": "code",
   "execution_count": null,
   "metadata": {
    "collapsed": true
   },
   "outputs": [],
   "source": []
  }
 ],
 "metadata": {
  "kernelspec": {
   "display_name": "Python [chp-pirc]",
   "language": "python",
   "name": "Python [chp-pirc]"
  },
  "language_info": {
   "codemirror_mode": {
    "name": "ipython",
    "version": 2
   },
   "file_extension": ".py",
   "mimetype": "text/x-python",
   "name": "python",
   "nbconvert_exporter": "python",
   "pygments_lexer": "ipython2",
   "version": "2.7.13"
  },
  "toc": {
   "nav_menu": {},
   "number_sections": true,
   "sideBar": true,
   "skip_h1_title": false,
   "toc_cell": true,
   "toc_position": {},
   "toc_section_display": "block",
   "toc_window_display": false
  }
 },
 "nbformat": 4,
 "nbformat_minor": 0
}
