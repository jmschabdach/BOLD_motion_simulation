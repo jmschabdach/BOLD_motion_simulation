{
 "cells": [
  {
   "cell_type": "markdown",
   "metadata": {
    "toc": true
   },
   "source": [
    "<h1>Table of Contents<span class=\"tocSkip\"></span></h1>\n",
    "<div class=\"toc\" style=\"margin-top: 1em;\"><ul class=\"toc-item\"><li><span><a href=\"#Imports\" data-toc-modified-id=\"Imports-1\"><span class=\"toc-item-num\">1&nbsp;&nbsp;</span>Imports</a></span></li><li><span><a href=\"#Handling-rs-fMRIs\" data-toc-modified-id=\"Handling-rs-fMRIs-2\"><span class=\"toc-item-num\">2&nbsp;&nbsp;</span>Handling rs-fMRIs</a></span><ul class=\"toc-item\"><li><span><a href=\"#Specify-the-filename\" data-toc-modified-id=\"Specify-the-filename-2.1\"><span class=\"toc-item-num\">2.1&nbsp;&nbsp;</span>Specify the filename</a></span></li><li><span><a href=\"#Load-the-file\" data-toc-modified-id=\"Load-the-file-2.2\"><span class=\"toc-item-num\">2.2&nbsp;&nbsp;</span>Load the file</a></span></li></ul></li><li><span><a href=\"#Explore-the-image\" data-toc-modified-id=\"Explore-the-image-3\"><span class=\"toc-item-num\">3&nbsp;&nbsp;</span>Explore the image</a></span></li><li><span><a href=\"#Scrolling-through-the-image-volume\" data-toc-modified-id=\"Scrolling-through-the-image-volume-4\"><span class=\"toc-item-num\">4&nbsp;&nbsp;</span>Scrolling through the image volume</a></span></li></ul></div>"
   ]
  },
  {
   "cell_type": "markdown",
   "metadata": {},
   "source": [
    "# Imports"
   ]
  },
  {
   "cell_type": "code",
   "execution_count": 21,
   "metadata": {
    "collapsed": false
   },
   "outputs": [],
   "source": [
    "from __future__ import print_function  # ensures print function compatibility with Python3\n",
    "import numpy as np\n",
    "\n",
    "# safely deal with file paths\n",
    "import os\n",
    "\n",
    "# library for loading the image\n",
    "from nipy.core.api import Image          # for Image object\n",
    "from nipy import load_image, save_image  # for loading and saving .nii.gz images\n",
    "from nipype.interfaces import dcmstack   # for saving the file\n",
    "\n",
    "# library for viewing the image\n",
    "import matplotlib.pyplot as plt"
   ]
  },
  {
   "cell_type": "markdown",
   "metadata": {
    "collapsed": true
   },
   "source": [
    "# Handling rs-fMRIs"
   ]
  },
  {
   "cell_type": "markdown",
   "metadata": {},
   "source": [
    "## Specify the filename"
   ]
  },
  {
   "cell_type": "code",
   "execution_count": 5,
   "metadata": {
    "collapsed": false
   },
   "outputs": [
    {
     "name": "stdout",
     "output_type": "stream",
     "text": [
      "/home/jenna/Documents/Pitt/CHP-PIRC/BOLD_motion_simulation/BOLD.nii\n"
     ]
    }
   ],
   "source": [
    "# Specify the path to the file\n",
    "path = \"BOLD.nii\"\n",
    "path = os.path.abspath(path)\n",
    "print(path)  # Python3 syntax for printing\n",
    "\n",
    "# Make sure that the file exists and is actually a file\n",
    "if not os.path.exists(path) or not os.path.isfile(path):\n",
    "    print(\"The filename entered is invalid\")"
   ]
  },
  {
   "cell_type": "markdown",
   "metadata": {},
   "source": [
    "## Load the file"
   ]
  },
  {
   "cell_type": "code",
   "execution_count": 12,
   "metadata": {
    "collapsed": false,
    "scrolled": true
   },
   "outputs": [],
   "source": [
    "sequence = load_image(path)\n",
    "\n",
    "# What is the type() of the image?\n",
    "# your code here\n",
    "\n",
    "# Get the coordinates of the image - will be used later to make sure all volumes \n",
    "# in the sequence are in the same space\n",
    "coords = sequence.coordmap"
   ]
  },
  {
   "cell_type": "code",
   "execution_count": 17,
   "metadata": {
    "collapsed": false
   },
   "outputs": [],
   "source": [
    "# Can grab the data directly from the sequence\n",
    "sequenceData = sequence.get_data()\n",
    "\n",
    "# What does the sequenceData object look like? \n",
    "# your code here\n",
    "\n",
    "# What type() of object is the data?\n",
    "# your code here\n",
    "\n",
    "# What is the shape of the data? (Hint: the object should have an attribute called .shape)\n",
    "# your code here\n",
    "\n",
    "# Based on the output of the previous line, how many dimensions \n",
    "# are used to store the information in the image sequence?"
   ]
  },
  {
   "cell_type": "markdown",
   "metadata": {},
   "source": [
    "# Explore the image"
   ]
  },
  {
   "cell_type": "code",
   "execution_count": 20,
   "metadata": {
    "collapsed": false
   },
   "outputs": [
    {
     "name": "stdout",
     "output_type": "stream",
     "text": [
      "0 (64, 64, 32)\n",
      "1 (64, 64, 32)\n",
      "2 (64, 64, 32)\n",
      "3 (64, 64, 32)\n",
      "4 (64, 64, 32)\n",
      "5 (64, 64, 32)\n",
      "6 (64, 64, 32)\n",
      "7 (64, 64, 32)\n",
      "8 (64, 64, 32)\n",
      "9 (64, 64, 32)\n",
      "10 (64, 64, 32)\n",
      "11 (64, 64, 32)\n",
      "12 (64, 64, 32)\n",
      "13 (64, 64, 32)\n",
      "14 (64, 64, 32)\n",
      "15 (64, 64, 32)\n",
      "16 (64, 64, 32)\n",
      "17 (64, 64, 32)\n",
      "18 (64, 64, 32)\n",
      "19 (64, 64, 32)\n",
      "20 (64, 64, 32)\n",
      "21 (64, 64, 32)\n",
      "22 (64, 64, 32)\n",
      "23 (64, 64, 32)\n",
      "24 (64, 64, 32)\n",
      "25 (64, 64, 32)\n",
      "26 (64, 64, 32)\n",
      "27 (64, 64, 32)\n",
      "28 (64, 64, 32)\n",
      "29 (64, 64, 32)\n",
      "30 (64, 64, 32)\n",
      "31 (64, 64, 32)\n",
      "32 (64, 64, 32)\n",
      "33 (64, 64, 32)\n",
      "34 (64, 64, 32)\n",
      "35 (64, 64, 32)\n",
      "36 (64, 64, 32)\n",
      "37 (64, 64, 32)\n",
      "38 (64, 64, 32)\n",
      "39 (64, 64, 32)\n",
      "40 (64, 64, 32)\n",
      "41 (64, 64, 32)\n",
      "42 (64, 64, 32)\n",
      "43 (64, 64, 32)\n",
      "44 (64, 64, 32)\n",
      "45 (64, 64, 32)\n",
      "46 (64, 64, 32)\n",
      "47 (64, 64, 32)\n",
      "48 (64, 64, 32)\n",
      "49 (64, 64, 32)\n",
      "50 (64, 64, 32)\n",
      "51 (64, 64, 32)\n",
      "52 (64, 64, 32)\n",
      "53 (64, 64, 32)\n",
      "54 (64, 64, 32)\n",
      "55 (64, 64, 32)\n",
      "56 (64, 64, 32)\n",
      "57 (64, 64, 32)\n",
      "58 (64, 64, 32)\n",
      "59 (64, 64, 32)\n",
      "60 (64, 64, 32)\n",
      "61 (64, 64, 32)\n",
      "62 (64, 64, 32)\n",
      "63 (64, 64, 32)\n",
      "64 (64, 64, 32)\n",
      "65 (64, 64, 32)\n",
      "66 (64, 64, 32)\n",
      "67 (64, 64, 32)\n",
      "68 (64, 64, 32)\n",
      "69 (64, 64, 32)\n",
      "70 (64, 64, 32)\n",
      "71 (64, 64, 32)\n",
      "72 (64, 64, 32)\n",
      "73 (64, 64, 32)\n",
      "74 (64, 64, 32)\n",
      "75 (64, 64, 32)\n",
      "76 (64, 64, 32)\n",
      "77 (64, 64, 32)\n",
      "78 (64, 64, 32)\n",
      "79 (64, 64, 32)\n",
      "80 (64, 64, 32)\n",
      "81 (64, 64, 32)\n",
      "82 (64, 64, 32)\n",
      "83 (64, 64, 32)\n",
      "84 (64, 64, 32)\n",
      "85 (64, 64, 32)\n",
      "86 (64, 64, 32)\n",
      "87 (64, 64, 32)\n",
      "88 (64, 64, 32)\n",
      "89 (64, 64, 32)\n",
      "90 (64, 64, 32)\n",
      "91 (64, 64, 32)\n",
      "92 (64, 64, 32)\n",
      "93 (64, 64, 32)\n",
      "94 (64, 64, 32)\n",
      "95 (64, 64, 32)\n",
      "96 (64, 64, 32)\n",
      "97 (64, 64, 32)\n",
      "98 (64, 64, 32)\n",
      "99 (64, 64, 32)\n",
      "100 (64, 64, 32)\n",
      "101 (64, 64, 32)\n",
      "102 (64, 64, 32)\n",
      "103 (64, 64, 32)\n",
      "104 (64, 64, 32)\n",
      "105 (64, 64, 32)\n",
      "106 (64, 64, 32)\n",
      "107 (64, 64, 32)\n",
      "108 (64, 64, 32)\n",
      "109 (64, 64, 32)\n",
      "110 (64, 64, 32)\n",
      "111 (64, 64, 32)\n",
      "112 (64, 64, 32)\n",
      "113 (64, 64, 32)\n",
      "114 (64, 64, 32)\n",
      "115 (64, 64, 32)\n",
      "116 (64, 64, 32)\n",
      "117 (64, 64, 32)\n",
      "118 (64, 64, 32)\n",
      "119 (64, 64, 32)\n",
      "120 (64, 64, 32)\n",
      "121 (64, 64, 32)\n",
      "122 (64, 64, 32)\n",
      "123 (64, 64, 32)\n",
      "124 (64, 64, 32)\n",
      "125 (64, 64, 32)\n",
      "126 (64, 64, 32)\n",
      "127 (64, 64, 32)\n",
      "128 (64, 64, 32)\n",
      "129 (64, 64, 32)\n",
      "130 (64, 64, 32)\n",
      "131 (64, 64, 32)\n",
      "132 (64, 64, 32)\n",
      "133 (64, 64, 32)\n",
      "134 (64, 64, 32)\n",
      "135 (64, 64, 32)\n",
      "136 (64, 64, 32)\n",
      "137 (64, 64, 32)\n",
      "138 (64, 64, 32)\n",
      "139 (64, 64, 32)\n",
      "140 (64, 64, 32)\n",
      "141 (64, 64, 32)\n",
      "142 (64, 64, 32)\n",
      "143 (64, 64, 32)\n",
      "144 (64, 64, 32)\n",
      "145 (64, 64, 32)\n",
      "146 (64, 64, 32)\n",
      "147 (64, 64, 32)\n",
      "148 (64, 64, 32)\n",
      "149 (64, 64, 32)\n"
     ]
    }
   ],
   "source": [
    "# Rather than try to deal with the sequence data directly, \n",
    "# is there a way to look at it one volume at a time? (yes)\n",
    "for i in range(sequence.get_data().shape[3]):\n",
    "    print(i, sequence[:,:,:,i].shape)"
   ]
  },
  {
   "cell_type": "code",
   "execution_count": 31,
   "metadata": {
    "collapsed": false
   },
   "outputs": [
    {
     "name": "stdout",
     "output_type": "stream",
     "text": [
      "(64, 64, 32)\n"
     ]
    },
    {
     "data": {
      "text/plain": [
       "<matplotlib.image.AxesImage at 0x7fde66513ad0>"
      ]
     },
     "execution_count": 31,
     "metadata": {},
     "output_type": "execute_result"
    },
    {
     "data": {
      "image/png": "[encoded data removed]",
      "text/plain": [
       "<matplotlib.figure.Figure at 0x7fde6644e310>"
      ]
     },
     "metadata": {
      "needs_background": "light"
     },
     "output_type": "display_data"
    }
   ],
   "source": [
    "# Let's start by looking at the first volume in the sequence, volume 0\n",
    "imageVolume = sequence.get_data()[:,:,:,0]\n",
    "print(imageVolume.shape)\n",
    "\n",
    "# The image is a rectangular prism. The length and width are the same,\n",
    "# and the height varies. It's hard to see the whole image in 3D, so look \n",
    "# at some individual 2D slices of the 3D volume\n",
    "sliceNumber = 13\n",
    "plt.imshow(imageVolume[:, :, sliceNumber]) \n",
    "\n",
    "# Anatomy of slice 12: we're looking at the axial plane of the brain (https://en.wikipedia.org/wiki/Anatomical_terms_of_location#Planes)\n",
    "# The patient is facing to the right. The two blobs at (40, 40) and (45, 28) are the eyes. \n",
    "# The brain is behind the eyes. \n",
    "\n",
    "# Look through a few more slices. Are the eyes always present in the same amount in each plane?"
   ]
  },
  {
   "cell_type": "markdown",
   "metadata": {
    "collapsed": true
   },
   "source": [
    "# Scrolling through the image volume\n",
    "\n",
    "Rerunning the previous cell gets tedius. There is a way to manipulate the plot using buttons on the keyboard. This can be done using the matplotlib event handler API.\n",
    "\n",
    "Switch to the file `image_viewer.py` and run it. Its purpose is to display a matplotlib figure showing a single slice of the first volume. \n",
    "\n",
    "After running it, read through it. How could this code be modified to change the volume in addition to the slice?"
   ]
  },
  {
   "cell_type": "code",
   "execution_count": null,
   "metadata": {
    "collapsed": true
   },
   "outputs": [],
   "source": []
  }
 ],
 "metadata": {
  "kernelspec": {
   "display_name": "Python [chp-pirc]",
   "language": "python",
   "name": "Python [chp-pirc]"
  },
  "language_info": {
   "codemirror_mode": {
    "name": "ipython",
    "version": 2
   },
   "file_extension": ".py",
   "mimetype": "text/x-python",
   "name": "python",
   "nbconvert_exporter": "python",
   "pygments_lexer": "ipython2",
   "version": "2.7.13"
  },
  "toc": {
   "nav_menu": {},
   "number_sections": true,
   "sideBar": true,
   "skip_h1_title": false,
   "toc_cell": true,
   "toc_position": {},
   "toc_section_display": "block",
   "toc_window_display": false
  }
 },
 "nbformat": 4,
 "nbformat_minor": 0
}
